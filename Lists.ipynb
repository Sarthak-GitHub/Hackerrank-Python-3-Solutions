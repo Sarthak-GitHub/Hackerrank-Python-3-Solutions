{
 "cells": [
  {
   "cell_type": "code",
   "execution_count": 1,
   "metadata": {},
   "outputs": [],
   "source": [
    "# Lists\n",
    "# https://www.hackerrank.com/challenges/python-lists/problem"
   ]
  },
  {
   "cell_type": "code",
   "execution_count": null,
   "metadata": {},
   "outputs": [],
   "source": [
    "if __name__ == '__main__':\n",
    "    list1 = []\n",
    "    N = int(input())\n",
    "    for i in range(N):\n",
    "        string = input()\n",
    "        str_list1 = string.strip().split(\" \")\n",
    "        check = str_list1[0]\n",
    "        if(check == \"print\"):\n",
    "            print(list1)\n",
    "        elif(check == \"sort\"):\n",
    "            list1.sort()\n",
    "        elif(check == \"reverse\"):\n",
    "            list1.reverse()\n",
    "        elif(check == \"pop\"):\n",
    "            list1.pop()\n",
    "        elif(check == \"count\"):\n",
    "            value = int(str_list1[1])\n",
    "            list1.count(val)\n",
    "        elif(check == \"index\"):\n",
    "            value = int(str_list1[1])\n",
    "            list1.index(val)\n",
    "        elif(check == \"remove\"):\n",
    "            value = int(str_list1[1])\n",
    "            list1.remove(val)  \n",
    "        elif(check == \"append\"):\n",
    "            value = int(str_list1[1])\n",
    "            list1.append(val)          \n",
    "        elif(check == \"insert\"):\n",
    "            place = int(str_list1[1])\n",
    "            value =int(str_list1[2])\n",
    "            list1.insert(place,value)"
   ]
  }
 ],
 "metadata": {
  "kernelspec": {
   "display_name": "Python 3",
   "language": "python",
   "name": "python3"
  },
  "language_info": {
   "codemirror_mode": {
    "name": "ipython",
    "version": 3
   },
   "file_extension": ".py",
   "mimetype": "text/x-python",
   "name": "python",
   "nbconvert_exporter": "python",
   "pygments_lexer": "ipython3",
   "version": "3.8.3"
  }
 },
 "nbformat": 4,
 "nbformat_minor": 4
}
