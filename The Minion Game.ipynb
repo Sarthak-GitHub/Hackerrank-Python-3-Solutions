{
 "cells": [
  {
   "cell_type": "code",
   "execution_count": 1,
   "metadata": {},
   "outputs": [],
   "source": [
    "# The Minion Game\n",
    "# https://www.hackerrank.com/challenges/the-minion-game/problem"
   ]
  },
  {
   "cell_type": "code",
   "execution_count": 2,
   "metadata": {},
   "outputs": [],
   "source": [
    "def minion_game(string):\n",
    "    score_Kevin = 0\n",
    "    score_Stuart = 0\n",
    "    \n",
    "    get_vowels = 'AEIOU'\n",
    "    length_string = len(string)\n",
    "\n",
    "    for x in range(length_string):\n",
    "        if s[x] in get_vowels:\n",
    "            score_Kevin += (length_string - x)\n",
    "        else:\n",
    "            score_Stuart += (length_string - x)\n",
    "\n",
    "    if score_Kevin  > score_Stuart:\n",
    "        print(\"Kevin scored \", score_Kevin )\n",
    "        \n",
    "    elif score_Kevin  < score_Stuart:\n",
    "        print(\"Stuart scored \", score_Stuart)\n",
    "        \n",
    "    else:\n",
    "        print(\"Draw Again\")"
   ]
  },
  {
   "cell_type": "code",
   "execution_count": null,
   "metadata": {},
   "outputs": [],
   "source": []
  }
 ],
 "metadata": {
  "kernelspec": {
   "display_name": "Python 3",
   "language": "python",
   "name": "python3"
  },
  "language_info": {
   "codemirror_mode": {
    "name": "ipython",
    "version": 3
   },
   "file_extension": ".py",
   "mimetype": "text/x-python",
   "name": "python",
   "nbconvert_exporter": "python",
   "pygments_lexer": "ipython3",
   "version": "3.8.3"
  }
 },
 "nbformat": 4,
 "nbformat_minor": 4
}
