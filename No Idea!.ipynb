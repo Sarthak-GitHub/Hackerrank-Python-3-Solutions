{
 "cells": [
  {
   "cell_type": "code",
   "execution_count": 1,
   "metadata": {},
   "outputs": [],
   "source": [
    "# No Idea!\n",
    "# https://www.hackerrank.com/challenges/no-idea/problem"
   ]
  },
  {
   "cell_type": "code",
   "execution_count": null,
   "metadata": {},
   "outputs": [],
   "source": [
    "get_count = map(int,input().strip().split())\n",
    "get_count = list(get_count)\n",
    "\n",
    "int_m = get_count[0]\n",
    "int_n = get_count[1]\n",
    "\n",
    "Big = map(int,input().strip().split())\n",
    "Big_list = list(Big)\n",
    "\n",
    "map_1 = map(int,input().strip().split())\n",
    "list1 = list(map_1)\n",
    "\n",
    "map_2 = map(int,input().strip().split())\n",
    "list2 = list(map_2)\n",
    "\n",
    "window = 0\n",
    "\n",
    "for x in Big_list:\n",
    "    if x in list1 : \n",
    "        window = window + 1\n",
    "    elif x in list2 : \n",
    "        window = window - 1\n",
    "print(window)"
   ]
  }
 ],
 "metadata": {
  "kernelspec": {
   "display_name": "Python 3",
   "language": "python",
   "name": "python3"
  },
  "language_info": {
   "codemirror_mode": {
    "name": "ipython",
    "version": 3
   },
   "file_extension": ".py",
   "mimetype": "text/x-python",
   "name": "python",
   "nbconvert_exporter": "python",
   "pygments_lexer": "ipython3",
   "version": "3.8.3"
  }
 },
 "nbformat": 4,
 "nbformat_minor": 4
}
